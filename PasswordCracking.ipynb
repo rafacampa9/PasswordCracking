{
  "nbformat": 4,
  "nbformat_minor": 0,
  "metadata": {
    "colab": {
      "provenance": []
    },
    "kernelspec": {
      "name": "python3",
      "display_name": "Python 3"
    },
    "language_info": {
      "name": "python"
    }
  },
  "cells": [
    {
      "cell_type": "code",
      "execution_count": null,
      "metadata": {
        "colab": {
          "base_uri": "https://localhost:8080/"
        },
        "id": "wb2HQyS_OHdc",
        "outputId": "cc507946-4566-4477-e673-1f6b27419e22"
      },
      "outputs": [
        {
          "name": "stdout",
          "output_type": "stream",
          "text": [
            "1. Codified password\n",
            "2. Codified 100.000 familiar passwords\n",
            "(Other). Exit\n",
            "Enter your option: e\n"
          ]
        }
      ],
      "source": [
        "############################################# IMPORTS #######################################################################\n",
        "from hashlib import md5, sha1, sha224, sha256, sha384, sha512\n",
        "\n",
        "\n",
        "############################################# METHODS #######################################################################\n",
        "def codified_password(pwd, file, mode='a+'):\n",
        "    print('*************************************************************************************************************\\n')\n",
        "    print(f'[*] The password is: {pwd}\\n')\n",
        "    with open(f'{file}.txt', mode) as passFile:\n",
        "        passFile.write('*************************************************************************************************************\\n')\n",
        "        passFile.write(f'[*] The password is: {pwd}\\n')\n",
        "\n",
        "        md5_pass = md5(pwd.encode('utf-8')).hexdigest()\n",
        "        print(f'[*] MD5 password is: {md5_pass}\\n')\n",
        "        passFile.write(f'[*] MD5 password is: {md5_pass}\\n')\n",
        "\n",
        "        sha1_pass = sha1(pwd.encode('utf-8')).hexdigest()\n",
        "        print(f'[*] SHA-1 password is: {sha1_pass}\\n')\n",
        "        passFile.write(f'[*] SHA-1 password is: {sha1_pass}\\n')\n",
        "\n",
        "        sha224_pass = sha224(pwd.encode('utf-8')).hexdigest()\n",
        "        print(f'[*] SHA-224 password is: {sha1_pass}\\n')\n",
        "        passFile.write(f'[*] SHA-224 password is: {sha224_pass}\\n')\n",
        "\n",
        "        sha256_pass = sha256(pwd.encode('utf-8')).hexdigest()\n",
        "        print(f'[*] SHA-256 password is: {sha1_pass}\\n')\n",
        "        passFile.write(f'[*] SHA-256 password is: {sha256_pass}\\n')\n",
        "\n",
        "        sha384_pass = sha384(pwd.encode('utf-8')).hexdigest()\n",
        "        print(f'[*] SHA-384 password is: {sha384_pass}\\n')\n",
        "        passFile.write(f'[*] SHA-384 password is: {sha384_pass}\\n')\n",
        "\n",
        "        sha512_pass = sha512(pwd.encode('utf-8')).hexdigest()\n",
        "        print(f'[*] SHA-512 password is: {sha512_pass}\\n')\n",
        "        passFile.write(f'[*] SHA-512 password is: {sha512_pass}\\n')\n",
        "\n",
        "        passFile.close()\n",
        "\n",
        "\n",
        "def run():\n",
        "    menu = '1'\n",
        "\n",
        "    while menu == '1' or menu == '2':\n",
        "        menu = input('1. Codified password\\n'\n",
        "                     '2. Codified 100.000 familiar passwords\\n'\n",
        "                     '(Other). Exit\\n'\n",
        "                     'Enter your option: ')\n",
        "        if menu == '1':\n",
        "            pwd = input('Enter your password: ')\n",
        "            file = input('Enter the file name: ')\n",
        "            codified_password(pwd.strip(), file)\n",
        "\n",
        "        elif menu == '2':\n",
        "            passwords = open('familiar passwords.txt', 'r')\n",
        "            file = input('Enter the file name: ')\n",
        "            for pwd in passwords.readlines():\n",
        "                codified_password(pwd.strip(), file)\n",
        "        else:\n",
        "            break\n",
        "\n",
        "\n",
        "############################################## MAIN #######################################################################\n",
        "if __name__ == '__main__':\n",
        "    run()"
      ]
    }
  ]
}